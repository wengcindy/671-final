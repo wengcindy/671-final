{
 "cells": [
  {
   "cell_type": "code",
   "execution_count": null,
   "metadata": {},
   "outputs": [],
   "source": [
    "import numpy as np\n",
    "import pandas as pd\n",
    "import math\n",
    "import similaritymeasures\n",
    "import sklearn\n",
    "from dtaidistance import dtw\n",
    "from dtaidistance import dtw_visualisation as dtwvis\n",
    "import matplotlib\n",
    "import sklearn\n",
    "# from sklearn.cluster import KMeans"
   ]
  },
  {
   "cell_type": "code",
   "execution_count": null,
   "metadata": {
    "scrolled": true
   },
   "outputs": [],
   "source": [
    "df = pd.read_csv(\"standardized_trajs_best_perf_test_losses_indiv_traj.csv\",header=[0, 1],index_col=[0, 1])\n",
    "df"
   ]
  },
  {
   "cell_type": "code",
   "execution_count": null,
   "metadata": {},
   "outputs": [],
   "source": [
    "optimizers = []\n",
    "for i in df.columns:\n",
    "    if i[0] not in optimizers:\n",
    "        optimizers.append(i[0])\n",
    "optimizers"
   ]
  },
  {
   "cell_type": "code",
   "execution_count": null,
   "metadata": {},
   "outputs": [],
   "source": [
    "tasks = []\n",
    "for i in df.index:\n",
    "    if i[0] not in tasks:\n",
    "        tasks.append(i[0])\n",
    "tasks"
   ]
  },
  {
   "cell_type": "code",
   "execution_count": null,
   "metadata": {},
   "outputs": [],
   "source": [
    "# x-axis range from 0 to 1\n",
    "all_coordinates = []\n",
    "for i in range(0,80,10):\n",
    "    task_coordinates = []\n",
    "    trajectory = list(df.iloc[i])\n",
    "    for j in range(len(trajectory)):\n",
    "        task_coordinates.append([3*j/len(trajectory),trajectory[j]])\n",
    "    all_coordinates.append(task_coordinates)\n",
    "all_coordinates"
   ]
  },
  {
   "cell_type": "code",
   "execution_count": null,
   "metadata": {
    "scrolled": true
   },
   "outputs": [],
   "source": [
    "# calculate distances\n",
    "\n",
    "distances = []\n",
    "for i in range(len(all_coordinates)):\n",
    "    task_dist = []\n",
    "    for j in range(len(all_coordinates)):\n",
    "        task_dist.append(similaritymeasures.frechet_dist(all_coordinates[i],all_coordinates[j]))\n",
    "    distances.append(task_dist)\n",
    "distances"
   ]
  },
  {
   "cell_type": "code",
   "execution_count": null,
   "metadata": {},
   "outputs": [],
   "source": [
    "# normalize distances?\n",
    "\n",
    "test_losses = np.asarray(distances)\n",
    "test_losses\n",
    "normalized_test_losses = []\n",
    "\n",
    "for i in range(len(test_losses)):\n",
    "    mean = np.mean(test_losses[i])\n",
    "    minus_mean = test_losses[i] - mean\n",
    "    normalized_test_losses.append((minus_mean)/np.linalg.norm(minus_mean))\n",
    "    \n",
    "print(normalized_test_losses)"
   ]
  },
  {
   "cell_type": "code",
   "execution_count": null,
   "metadata": {},
   "outputs": [],
   "source": [
    "results = pd.DataFrame(data=distances, index=tasks, columns=tasks)\n",
    "results"
   ]
  },
  {
   "cell_type": "code",
   "execution_count": null,
   "metadata": {},
   "outputs": [],
   "source": [
    "results.to_csv('frechet_dist1.csv')"
   ]
  },
  {
   "cell_type": "code",
   "execution_count": null,
   "metadata": {},
   "outputs": [],
   "source": [
    "# only use y-coordinates for DTW\n",
    "\n",
    "all_y_coordinates = []\n",
    "for i in range(0,80,10):\n",
    "    task_coordinates = []\n",
    "    trajectory = list(df.iloc[i])\n",
    "    for j in range(len(trajectory)):\n",
    "        task_coordinates.append(trajectory[j])\n",
    "    all_y_coordinates.append(task_coordinates)\n",
    "all_y_coordinates"
   ]
  },
  {
   "cell_type": "code",
   "execution_count": null,
   "metadata": {
    "scrolled": true
   },
   "outputs": [],
   "source": [
    "# DTW plots\n",
    "\n",
    "for i in range(len(all_y_coordinates)):\n",
    "    for j in range(i, len(all_y_coordinates)):\n",
    "        if i != j:\n",
    "            for k in range(0, len(all_y_coordinates[i]), 51):\n",
    "                s1 = all_y_coordinates[i][i:i+50]\n",
    "                s2 = all_y_coordinates[j][i:i+50]\n",
    "                path = dtw.warping_path(s1, s2)\n",
    "                f = \"plots/\" + tasks[i] + \"_\" + tasks[j] + \"_\"+ optimizers[int(k/51)]\n",
    "                dtwvis.plot_warping(s1, s2, path, filename = f)\n"
   ]
  },
  {
   "cell_type": "code",
   "execution_count": null,
   "metadata": {},
   "outputs": [],
   "source": [
    "# calculate DTW distance\n",
    "\n",
    "dtw_distances = []\n",
    "for i in range(len(all_y_coordinates)):\n",
    "    task_dist = []\n",
    "    for j in range(len(all_y_coordinates)):\n",
    "        task_dist.append(dtw.distance(all_y_coordinates[i],all_y_coordinates[j]))\n",
    "    dtw_distances.append(task_dist)"
   ]
  },
  {
   "cell_type": "code",
   "execution_count": null,
   "metadata": {},
   "outputs": [],
   "source": [
    "distances = pd.DataFrame(data=dtw_distances, index=tasks, columns=tasks)\n",
    "distances"
   ]
  },
  {
   "cell_type": "code",
   "execution_count": null,
   "metadata": {},
   "outputs": [],
   "source": [
    "distances.to_csv(\"dtw_distances.csv\")"
   ]
  },
  {
   "cell_type": "code",
   "execution_count": null,
   "metadata": {},
   "outputs": [],
   "source": []
  }
 ],
 "metadata": {
  "kernelspec": {
   "display_name": "Python 3",
   "language": "python",
   "name": "python3"
  },
  "language_info": {
   "codemirror_mode": {
    "name": "ipython",
    "version": 3
   },
   "file_extension": ".py",
   "mimetype": "text/x-python",
   "name": "python",
   "nbconvert_exporter": "python",
   "pygments_lexer": "ipython3",
   "version": "3.6.12"
  }
 },
 "nbformat": 4,
 "nbformat_minor": 2
}
