{
 "cells": [
  {
   "cell_type": "code",
   "execution_count": null,
   "metadata": {},
   "outputs": [],
   "source": [
    "import pandas as pd\n",
    "import numpy as np\n",
    "import matplotlib.pyplot as plt"
   ]
  },
  {
   "cell_type": "code",
   "execution_count": null,
   "metadata": {},
   "outputs": [],
   "source": [
    "df = pd.read_csv('best_perf_test_losses_indiv_traj__rows_obj_runSeed__cols_optim_epoch.csv',header=[0, 1],index_col=[0, 1])\n",
    "df"
   ]
  },
  {
   "cell_type": "code",
   "execution_count": null,
   "metadata": {},
   "outputs": [],
   "source": [
    "# iterate through optimizers -- outer column level\n",
    "for optimizer in df.columns.unique(0):\n",
    "    # set up figure, get Axes objects\n",
    "    fig, axes = plt.subplots(nrows=8, ncols=1,figsize=(10,20))\n",
    "    axes_list = list(axes)\n",
    "    # iterate through objectives -- outer row level\n",
    "    for (ax_ind, objective) in enumerate(df.index.unique(0)):\n",
    "        # get Axes object for this objective\n",
    "        ax = axes_list[ax_ind]\n",
    "        # iterate through runs of objective -- inner row level\n",
    "        for run in df.index.unique(1):\n",
    "            # plot run trajectory on subplot for this objective\n",
    "            df.loc[(objective, run), optimizer].plot(ax=ax)\n",
    "            ax.set_title(objective + \"__\" + optimizer)\n",
    "    fig.tight_layout()\n",
    "    plt.savefig(optimizer +'.png')"
   ]
  },
  {
   "cell_type": "markdown",
   "metadata": {},
   "source": [
    "### ignore everything below this point- scratch work"
   ]
  },
  {
   "cell_type": "code",
   "execution_count": null,
   "metadata": {
    "scrolled": true
   },
   "outputs": [],
   "source": [
    "g=df.groupby('task')\n",
    "\n",
    "for i, (task, d) in enumerate(g):\n",
    "    fig = plt.subplots(g.ngroups)\n",
    "    print(d)\n",
    "    for i in range(len(optimizers)):\n",
    "        print(row_ind)\n",
    "        print(optimizers[i])\n",
    "        for j in range(row_ind,row_ind+10):\n",
    "            plt.plot(df[optimizers[i]].iloc[j])\n",
    "            print(df[optimizers[i]].iloc[j].name[0])\n",
    "            print(df[optimizers[i]].iloc[j].name[1])\n",
    "\n",
    "        title = df[optimizers[i]].iloc[j].name[0] + \" \" +optimizers[i]\n",
    "        plt.title(title)\n",
    "        x = plt.show()\n",
    "    ax = d.plot.bar(x='resource', y='average', ax=axes[i], title=country)\n",
    "    row_ind += 10"
   ]
  },
  {
   "cell_type": "code",
   "execution_count": null,
   "metadata": {},
   "outputs": [],
   "source": [
    "row_ind = 0\n",
    "# iterate through tasks\n",
    "for h in range(8):\n",
    "    for i in range(len(optimizers)):\n",
    "        print(optimizers[i])\n",
    "        for j in range(row_ind,row_ind+10):\n",
    "            plt.plot(df[optimizers[i]].iloc[j])\n",
    "#             print(df[optimizers[i]].iloc[j].name[0])\n",
    "#             print(df[optimizers[i]].iloc[j].name[1])\n",
    "\n",
    "        title = df[optimizers[i]].iloc[j].name[0] + \" \" +optimizers[i]\n",
    "        plt.title(title)\n",
    "        plt.show()\n",
    "    row_ind += 10"
   ]
  },
  {
   "cell_type": "code",
   "execution_count": null,
   "metadata": {},
   "outputs": [],
   "source": [
    "row_ind = 0\n",
    "# iterate through tasks\n",
    "for i in range(len(optimizers)):\n",
    "    row_ind = 0\n",
    "    for h in range(8):\n",
    "#         print(optimizers[i])\n",
    "        for j in range(row_ind,row_ind+10):\n",
    "            plt.plot(df[optimizers[i]].iloc[j])\n",
    "#             print(df[optimizers[i]].iloc[j].name[0])\n",
    "#             print(df[optimizers[i]].iloc[j].name[1])\n",
    "\n",
    "        title = df[optimizers[i]].iloc[j].name[0] + \" \" +optimizers[i]\n",
    "        print(j)\n",
    "        plt.title(title)\n",
    "        plt.show()\n",
    "        row_ind += 10"
   ]
  },
  {
   "cell_type": "code",
   "execution_count": null,
   "metadata": {},
   "outputs": [],
   "source": [
    "# Asking for TWO subplots, ax1 and ax2.\n",
    "# Be sure to put them in parenthesis\n",
    "fig, (ax1, ax2,ax3,ax4) = plt.subplots(nrows=4, ncols=1,figsize=(10,20))\n",
    "# fig, axs = plt.subplots(2, 2)\n",
    "\n",
    "# axs[0,0] = df[optimizers[0]].iloc[0].plot()\n",
    "# axs[0,1] = df[optimizers[0]].iloc[10].plot()\n",
    "# axs[1,1] = df[optimizers[0]].iloc[10].plot()\n",
    "# Use ax1 to plot Bhutan\n",
    "df[optimizers[0]].iloc[0].plot(ax=ax1)\n",
    "df[optimizers[0]].iloc[10].plot(ax=ax1)\n",
    "ax1.set_title(\"task0\")\n",
    "\n",
    "# Use ax2 to plot Iran\n",
    "df[optimizers[0]].iloc[20].plot(ax=ax2)\n",
    "ax2.set_title(\"task1\")\n",
    "\n",
    "# Use ax2 to plot Iran\n",
    "df[optimizers[0]].iloc[30].plot(ax=ax3)\n",
    "ax2.set_title(\"task1\")\n",
    "\n",
    "# Use ax2 to plot Iran\n",
    "df[optimizers[0]].iloc[40].plot(ax=ax4)\n",
    "ax2.set_title(\"task1\")\n",
    "\n",
    "# If you don't do tight_layout() you'll have weird overlaps\n",
    "# plt.tight_layout()\n",
    "\n",
    "\n",
    "\n",
    "# df[optimizers[0]].iloc[0].plot()\n",
    "# plt.plot(df[optimizers[0]].iloc[0])"
   ]
  }
 ],
 "metadata": {
  "kernelspec": {
   "display_name": "Python 3",
   "language": "python",
   "name": "python3"
  },
  "language_info": {
   "codemirror_mode": {
    "name": "ipython",
    "version": 3
   },
   "file_extension": ".py",
   "mimetype": "text/x-python",
   "name": "python",
   "nbconvert_exporter": "python",
   "pygments_lexer": "ipython3",
   "version": "3.8.3"
  }
 },
 "nbformat": 4,
 "nbformat_minor": 2
}
